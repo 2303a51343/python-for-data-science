{
  "nbformat": 4,
  "nbformat_minor": 0,
  "metadata": {
    "colab": {
      "provenance": [],
      "authorship_tag": "ABX9TyMaciCuKYB1aWZwWKZcRBBq",
      "include_colab_link": true
    },
    "kernelspec": {
      "name": "python3",
      "display_name": "Python 3"
    },
    "language_info": {
      "name": "python"
    }
  },
  "cells": [
    {
      "cell_type": "markdown",
      "metadata": {
        "id": "view-in-github",
        "colab_type": "text"
      },
      "source": [
        "<a href=\"https://colab.research.google.com/github/2303a51343/python-for-data-science/blob/main/lab_3.ipynb\" target=\"_parent\"><img src=\"https://colab.research.google.com/assets/colab-badge.svg\" alt=\"Open In Colab\"/></a>"
      ]
    },
    {
      "cell_type": "code",
      "source": [
        "import numpy as np\n",
        "A=np.array([[20,30,40],[40,50,60]])\n",
        "B=np.array([[15,10,25],[20,25,35]])\n",
        "print(A)\n",
        "print(B)\n"
      ],
      "metadata": {
        "id": "7iuk-Ra4oUZG",
        "outputId": "a8c00fb6-c271-4a7b-bdca-f62d1879e404",
        "colab": {
          "base_uri": "https://localhost:8080/",
          "height": 0
        }
      },
      "execution_count": 1,
      "outputs": [
        {
          "output_type": "stream",
          "name": "stdout",
          "text": [
            "[[20 30 40]\n",
            " [40 50 60]]\n",
            "[[15 10 25]\n",
            " [20 25 35]]\n"
          ]
        }
      ]
    },
    {
      "cell_type": "code",
      "source": [
        "addition=np.add(A,B)\n",
        "print(addition)\n",
        "subtraction=np.subtract(A,B)\n",
        "print(subtraction)"
      ],
      "metadata": {
        "id": "gZ7zAJESon6O",
        "outputId": "b1511ec8-7f71-4b43-f5e1-ed0918432720",
        "colab": {
          "base_uri": "https://localhost:8080/",
          "height": 0
        }
      },
      "execution_count": 2,
      "outputs": [
        {
          "output_type": "stream",
          "name": "stdout",
          "text": [
            "[[35 40 65]\n",
            " [60 75 95]]\n",
            "[[ 5 20 15]\n",
            " [20 25 25]]\n"
          ]
        }
      ]
    },
    {
      "cell_type": "code",
      "source": [
        "import numpy as np\n",
        "scores = np.random.randint(0, 101, (4, 4))\n",
        "print(\"Test Scores (4x4):\\n\", scores)\n",
        "row_mean = np.mean(scores, axis=1)\n",
        "print(\"\\nRow-wise Mean (per student):\\n\", row_mean)\n",
        "col_mean = np.mean(scores, axis=0)\n",
        "print(\"\\nColumn-wise Mean (per subject):\\n\", col_mean)\n",
        "std_dev = np.std(scores)\n",
        "variance = np.var(scores)\n",
        "print(\"\\nStandard Deviation of all scores:\", std_dev)\n",
        "print(\"Variance of all scores:\", variance)\n",
        "max_value = np.max(scores)\n",
        "min_value = np.min(scores)\n",
        "max_index = np.unravel_index(np.argmax(scores), scores.shape)\n",
        "min_index = np.unravel_index(np.argmin(scores), scores.shape)\n",
        "print(\"\\nMaximum Score:\", max_value)\n",
        "print(\"Minimum Score:\", min_value)"
      ],
      "metadata": {
        "id": "AyZnKoN0orFY",
        "outputId": "b02485e2-587f-4b09-eb2f-53926181d736",
        "colab": {
          "base_uri": "https://localhost:8080/",
          "height": 0
        }
      },
      "execution_count": 3,
      "outputs": [
        {
          "output_type": "stream",
          "name": "stdout",
          "text": [
            "Test Scores (4x4):\n",
            " [[46 67 26 71]\n",
            " [95 41 29 39]\n",
            " [46 37 50 33]\n",
            " [29 69 78 52]]\n",
            "\n",
            "Row-wise Mean (per student):\n",
            " [52.5 51.  41.5 57. ]\n",
            "\n",
            "Column-wise Mean (per subject):\n",
            " [54.   53.5  45.75 48.75]\n",
            "\n",
            "Standard Deviation of all scores: 19.445436482630058\n",
            "Variance of all scores: 378.125\n",
            "\n",
            "Maximum Score: 95\n",
            "Minimum Score: 26\n"
          ]
        }
      ]
    },
    {
      "cell_type": "code",
      "source": [
        "import numpy as np\n",
        "image = np.random.randint(0, 256, (3, 3, 3))\n",
        "print(\"Original Image:\\n\", image)\n",
        "red   = image[:, :, 0]\n",
        "green = image[:, :, 1]\n",
        "blue  = image[:, :, 2]\n",
        "print(\"\\nRed Channel:\\n\", red)\n",
        "print(\"\\nGreen Channel:\\n\", green)\n",
        "print(\"\\nBlue Channel:\\n\", blue)\n",
        "print(\"\\nAverage Red:\", np.mean(red))\n",
        "print(\"Average Green:\", np.mean(green))\n",
        "print(\"Average Blue:\", np.mean(blue))\n",
        "bright = np.clip(np.add(image, 50), 0, 255)\n",
        "print(\"\\nBrightened Image:\\n\", bright)\n",
        "dark = np.clip(np.subtract(image, 50), 0, 255)\n",
        "print(\"\\nDarkened Image:\\n\", dark)\n"
      ],
      "metadata": {
        "id": "GpX5m6Tkov0u",
        "outputId": "c29bf7af-9aae-4bae-b4c5-dc3783e4fa2f",
        "colab": {
          "base_uri": "https://localhost:8080/",
          "height": 0
        }
      },
      "execution_count": 4,
      "outputs": [
        {
          "output_type": "stream",
          "name": "stdout",
          "text": [
            "Original Image:\n",
            " [[[ 39 242  36]\n",
            "  [ 13 131 162]\n",
            "  [162  77 172]]\n",
            "\n",
            " [[204  48 133]\n",
            "  [  8 243 212]\n",
            "  [191 141 139]]\n",
            "\n",
            " [[205 231 233]\n",
            "  [ 26 200 100]\n",
            "  [118  63 160]]]\n",
            "\n",
            "Red Channel:\n",
            " [[ 39  13 162]\n",
            " [204   8 191]\n",
            " [205  26 118]]\n",
            "\n",
            "Green Channel:\n",
            " [[242 131  77]\n",
            " [ 48 243 141]\n",
            " [231 200  63]]\n",
            "\n",
            "Blue Channel:\n",
            " [[ 36 162 172]\n",
            " [133 212 139]\n",
            " [233 100 160]]\n",
            "\n",
            "Average Red: 107.33333333333333\n",
            "Average Green: 152.88888888888889\n",
            "Average Blue: 149.66666666666666\n",
            "\n",
            "Brightened Image:\n",
            " [[[ 89 255  86]\n",
            "  [ 63 181 212]\n",
            "  [212 127 222]]\n",
            "\n",
            " [[254  98 183]\n",
            "  [ 58 255 255]\n",
            "  [241 191 189]]\n",
            "\n",
            " [[255 255 255]\n",
            "  [ 76 250 150]\n",
            "  [168 113 210]]]\n",
            "\n",
            "Darkened Image:\n",
            " [[[  0 192   0]\n",
            "  [  0  81 112]\n",
            "  [112  27 122]]\n",
            "\n",
            " [[154   0  83]\n",
            "  [  0 193 162]\n",
            "  [141  91  89]]\n",
            "\n",
            " [[155 181 183]\n",
            "  [  0 150  50]\n",
            "  [ 68  13 110]]]\n"
          ]
        }
      ]
    }
  ]
}