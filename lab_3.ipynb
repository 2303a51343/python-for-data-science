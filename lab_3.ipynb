{
  "nbformat": 4,
  "nbformat_minor": 0,
  "metadata": {
    "colab": {
      "provenance": [],
      "authorship_tag": "ABX9TyPeKNKlIhmpxc0YVeXFwJC2",
      "include_colab_link": true
    },
    "kernelspec": {
      "name": "python3",
      "display_name": "Python 3"
    },
    "language_info": {
      "name": "python"
    }
  },
  "cells": [
    {
      "cell_type": "markdown",
      "metadata": {
        "id": "view-in-github",
        "colab_type": "text"
      },
      "source": [
        "<a href=\"https://colab.research.google.com/github/2303a51343/python-for-data-science/blob/main/lab_3.ipynb\" target=\"_parent\"><img src=\"https://colab.research.google.com/assets/colab-badge.svg\" alt=\"Open In Colab\"/></a>"
      ]
    },
    {
      "cell_type": "code",
      "execution_count": null,
      "metadata": {
        "id": "1MTeKqEukTSZ"
      },
      "outputs": [],
      "source": [
        "import numpy as np\n",
        "arr1=np.array([1,2,3])\n",
        "arr2=np.array([4,5,6])\n",
        "print(\"Array arr1:\", arr1)\n",
        "print(\"Array arr2:\", arr2)\n",
        "print(\"arr1 + arr2:\", arr1+arr2)\n",
        "print(\"arr1 - arr2:\", arr1-arr2)\n",
        "print(\"arr1 * arr2:\", arr1*arr2)\n",
        "print(\"arr1 / arr2:\", arr1/arr2)\n",
        "print(\"arr1*2:\", arr1*2)\n",
        "print(\"arr2*2:\", arr2*2)\n",
        "print(\"arr1 % 3:\", arr1%3)\n",
        "print(\"arr2 % 4:\", arr2%4)\n",
        "print(\"Sum of arr1 + arr2:\", np.sum(arr1+arr2))\n",
        "print(\"Subtract arr1 from arr2:\", np.subtract(arr1,arr2))\n",
        "print(\"Multiply arr1 and arr2:\", np.multiply(arr1,arr2))\n",
        "print(\"Divide arr1 by arr2:\", np.divide(arr1,arr2))"
      ]
    },
    {
      "cell_type": "code",
      "source": [
        "import numpy as np\n",
        "import matplotlib.pyplot as plt\n",
        "arr1=np.array([[[1,2],[3,4],[5,6]]])\n",
        "arr2=np.array([[10,20,30],[40,50,60]])\n",
        "print(\"Array arr1:\", arr1)\n",
        "print(\"Array arr2:\", arr2)\n",
        "print(\"Dot product:\",arr1.dot(arr2))\n",
        "print(\"Dot product:\",arr1@arr2)\n",
        "image = np.array([[100, 150],\n",
        "                  [200, 250]])\n",
        "filter_matrix = np.array([[0.5, 0.2],\n",
        "                           [0.3, 0.8]])\n",
        "\n",
        "print(\"\\nOriginal 'image' matrix:\")\n",
        "print(image)\n",
        "print(\"\\nFilter matrix:\")\n",
        "print(filter_matrix)\n",
        "\n",
        "# Applying filter using dot product\n",
        "filtered_image = np.dot(image, filter_matrix)\n",
        "print(\"\\nFiltered image matrix (after transformation):\")\n",
        "print(filtered_image)\n",
        "\n",
        "# Step 5: Visualization\n",
        "fig, axes = plt.subplots(1, 2, figsize=(6, 3))\n",
        "axes[0].imshow(image, cmap='gray')\n",
        "axes[0].set_title(\"Original Image\")\n",
        "axes[0].axis(\"off\")\n",
        "\n",
        "axes[1].imshow(filtered_image, cmap='gray')\n",
        "axes[1].set_title(\"Filtered Image\")\n",
        "axes[1].axis(\"off\")\n",
        "\n",
        "plt.tight_layout()\n",
        "plt.show()"
      ],
      "metadata": {
        "id": "HtSLjQx5krfb"
      },
      "execution_count": null,
      "outputs": []
    }
  ]
}